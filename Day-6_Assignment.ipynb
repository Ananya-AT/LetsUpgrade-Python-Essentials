{
 "cells": [
  {
   "cell_type": "markdown",
   "metadata": {},
   "source": [
    "# Question 1"
   ]
  },
  {
   "cell_type": "code",
   "execution_count": 56,
   "metadata": {},
   "outputs": [],
   "source": [
    "class Account:\n",
    "    def _init_(self):\n",
    "        self.balance = 0\n",
    "        print('your account is created')\n",
    "        \n",
    "    def deposit(self,):\n",
    "        amount = int(input('Enter the amount to deposit: '))\n",
    "        self.balance += amount\n",
    "        print('Your new balance is =%d',self.balance)\n",
    "\n",
    "    def withdraw(self):\n",
    "        amount = int(input('Enter the amount to withdraw: '))\n",
    "        if(amount>self.balance):\n",
    "            print('Insufficient balance')\n",
    "        else:\n",
    "            self.balance -= amount\n",
    "            print('Your remaining balance = %d',self.balance)\n",
    "    def enquiry(self):\n",
    "        print('Your remaining balance =%d',self.balance)\n",
    "        account = Account()\n",
    "        account.deposit()\n",
    "        account.withdraw()\n",
    "        account.enquiry()"
   ]
  },
  {
   "cell_type": "markdown",
   "metadata": {},
   "source": [
    "# Question 2"
   ]
  },
  {
   "cell_type": "code",
   "execution_count": 57,
   "metadata": {},
   "outputs": [
    {
     "name": "stdout",
     "output_type": "stream",
     "text": [
      "enter the radius: 5\n",
      "enter the height: 10\n",
      "enter the slant height: 9\n",
      "volume of cone:  261.79938779914943\n",
      "surface area of cone:  219.9114857512855\n"
     ]
    }
   ],
   "source": [
    "import math\n",
    "pi = math.pi\n",
    "\n",
    "def volume(r, h):\n",
    "    return(1/3)*pi*r*r*h\n",
    "def surfacearea(r, s):\n",
    "    return pi*r*s+pi*r*r\n",
    "r = float(input('enter the radius: '))\n",
    "h = float(input('enter the height: '))\n",
    "s = float(input('enter the slant height: '))\n",
    "print('volume of cone: ',volume(r, h))\n",
    "print('surface area of cone: ',surfacearea(r, s))"
   ]
  },
  {
   "cell_type": "code",
   "execution_count": null,
   "metadata": {},
   "outputs": [],
   "source": []
  }
 ],
 "metadata": {
  "kernelspec": {
   "display_name": "Python 3",
   "language": "python",
   "name": "python3"
  },
  "language_info": {
   "codemirror_mode": {
    "name": "ipython",
    "version": 3
   },
   "file_extension": ".py",
   "mimetype": "text/x-python",
   "name": "python",
   "nbconvert_exporter": "python",
   "pygments_lexer": "ipython3",
   "version": "3.8.3"
  }
 },
 "nbformat": 4,
 "nbformat_minor": 4
}
