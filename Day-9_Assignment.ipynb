{
 "cells": [
  {
   "cell_type": "markdown",
   "metadata": {},
   "source": [
    "# Question 1"
   ]
  },
  {
   "cell_type": "code",
   "execution_count": 6,
   "metadata": {},
   "outputs": [
    {
     "name": "stdout",
     "output_type": "stream",
     "text": [
      "Enter the number : 6\n",
      "6 is not a prime number\n"
     ]
    }
   ],
   "source": [
    "number = int(input('Enter the number : '))\n",
    "if number > 1:\n",
    "    for i in range(2, number):\n",
    "        if (number % i) == 0:\n",
    "            print(number, 'is not a prime number')\n",
    "            break \n",
    "    else:\n",
    "        print(number, 'is a prime number')\n",
    "else:\n",
    "    print(number, 'is not a prime number')"
   ]
  },
  {
   "cell_type": "markdown",
   "metadata": {},
   "source": [
    "# Question 2"
   ]
  },
  {
   "cell_type": "code",
   "execution_count": 9,
   "metadata": {},
   "outputs": [
    {
     "name": "stdout",
     "output_type": "stream",
     "text": [
      "Enter the minimium value: 1\n",
      "Enter the maximum value: 1000\n",
      "Armstrong numbers from 1 to 1000 are :\n",
      "1 2 3 4 5 6 7 8 9 25 36 125 216 729 "
     ]
    }
   ],
   "source": [
    "def count_digit(n):\n",
    "    count = 0\n",
    "    while n:\n",
    "        n //= 10\n",
    "        count += 1\n",
    "    return count\n",
    "\n",
    "def is_armstrong(n):\n",
    "    if n < 0:\n",
    "        return False\n",
    "    \n",
    "    number_copy = n\n",
    "    arm_sum = 0\n",
    "    digit = count_digit(n)\n",
    "    while n:\n",
    "        remainder = n%10\n",
    "        arm_sum += remainder**digit\n",
    "        n //= 10\n",
    "        return arm_sum == number_copy\n",
    "    \n",
    "min_value = int(input('Enter the minimium value: '))\n",
    "max_value = int(input('Enter the maximum value: '))\n",
    "\n",
    "print('Armstrong numbers from %d to %d are :' %(min_value, max_value))\n",
    "for i in range(min_value, max_value+1):\n",
    "    if is_armstrong(i):\n",
    "        print(i, end=' ')"
   ]
  },
  {
   "cell_type": "code",
   "execution_count": null,
   "metadata": {},
   "outputs": [],
   "source": []
  }
 ],
 "metadata": {
  "kernelspec": {
   "display_name": "Python 3",
   "language": "python",
   "name": "python3"
  }
 },
 "nbformat": 4,
 "nbformat_minor": 4
}
